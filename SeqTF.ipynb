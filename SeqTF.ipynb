{
 "cells": [
  {
   "cell_type": "code",
   "execution_count": 1,
   "metadata": {},
   "outputs": [],
   "source": [
    "import numpy as np\n",
    "import pandas as pd\n",
    "\n",
    "from polara import get_movielens_data\n",
    "from polara.lib.earlystopping import early_stopping_callback\n",
    "\n",
    "from dataprep import split_data, assign_positions\n",
    "from model import seqtf_model_build, tf_scoring\n",
    "from evaluation import downvote_seen_items, model_evaluate, topn_recommendations"
   ]
  },
  {
   "cell_type": "markdown",
   "metadata": {},
   "source": [
    "# Preparing Data"
   ]
  },
  {
   "cell_type": "code",
   "execution_count": 2,
   "metadata": {},
   "outputs": [
    {
     "data": {
      "text/html": [
       "<div>\n",
       "<style scoped>\n",
       "    .dataframe tbody tr th:only-of-type {\n",
       "        vertical-align: middle;\n",
       "    }\n",
       "\n",
       "    .dataframe tbody tr th {\n",
       "        vertical-align: top;\n",
       "    }\n",
       "\n",
       "    .dataframe thead th {\n",
       "        text-align: right;\n",
       "    }\n",
       "</style>\n",
       "<table border=\"1\" class=\"dataframe\">\n",
       "  <thead>\n",
       "    <tr style=\"text-align: right;\">\n",
       "      <th></th>\n",
       "      <th>userid</th>\n",
       "      <th>movieid</th>\n",
       "      <th>rating</th>\n",
       "      <th>timestamp</th>\n",
       "    </tr>\n",
       "  </thead>\n",
       "  <tbody>\n",
       "    <tr>\n",
       "      <th>0</th>\n",
       "      <td>1</td>\n",
       "      <td>1193</td>\n",
       "      <td>5</td>\n",
       "      <td>978300760</td>\n",
       "    </tr>\n",
       "    <tr>\n",
       "      <th>1</th>\n",
       "      <td>1</td>\n",
       "      <td>661</td>\n",
       "      <td>3</td>\n",
       "      <td>978302109</td>\n",
       "    </tr>\n",
       "    <tr>\n",
       "      <th>2</th>\n",
       "      <td>1</td>\n",
       "      <td>914</td>\n",
       "      <td>3</td>\n",
       "      <td>978301968</td>\n",
       "    </tr>\n",
       "    <tr>\n",
       "      <th>3</th>\n",
       "      <td>1</td>\n",
       "      <td>3408</td>\n",
       "      <td>4</td>\n",
       "      <td>978300275</td>\n",
       "    </tr>\n",
       "    <tr>\n",
       "      <th>4</th>\n",
       "      <td>1</td>\n",
       "      <td>2355</td>\n",
       "      <td>5</td>\n",
       "      <td>978824291</td>\n",
       "    </tr>\n",
       "  </tbody>\n",
       "</table>\n",
       "</div>"
      ],
      "text/plain": [
       "   userid  movieid  rating  timestamp\n",
       "0       1     1193       5  978300760\n",
       "1       1      661       3  978302109\n",
       "2       1      914       3  978301968\n",
       "3       1     3408       4  978300275\n",
       "4       1     2355       5  978824291"
      ]
     },
     "execution_count": 2,
     "metadata": {},
     "output_type": "execute_result"
    }
   ],
   "source": [
    "mldata = get_movielens_data('ml-1m.zip', include_time=True)\n",
    "mldata.head()"
   ]
  },
  {
   "cell_type": "code",
   "execution_count": 3,
   "metadata": {},
   "outputs": [
    {
     "name": "stdout",
     "output_type": "stream",
     "text": [
      "Filtered 64 invalid observations.\n"
     ]
    }
   ],
   "source": [
    "train_pack, valid_pack, test_pack = split_data(mldata, time_q=0.9)"
   ]
  },
  {
   "cell_type": "code",
   "execution_count": 4,
   "metadata": {},
   "outputs": [],
   "source": [
    "n_pos = 200\n",
    "\n",
    "training_data = assign_positions(train_pack[0], n_pos)\n",
    "testset_valid = assign_positions(valid_pack[0], n_pos)\n",
    "testset = assign_positions(test_pack[0], n_pos)"
   ]
  },
  {
   "cell_type": "code",
   "execution_count": 5,
   "metadata": {},
   "outputs": [
    {
     "data": {
      "text/html": [
       "<div>\n",
       "<style scoped>\n",
       "    .dataframe tbody tr th:only-of-type {\n",
       "        vertical-align: middle;\n",
       "    }\n",
       "\n",
       "    .dataframe tbody tr th {\n",
       "        vertical-align: top;\n",
       "    }\n",
       "\n",
       "    .dataframe thead th {\n",
       "        text-align: right;\n",
       "    }\n",
       "</style>\n",
       "<table border=\"1\" class=\"dataframe\">\n",
       "  <thead>\n",
       "    <tr style=\"text-align: right;\">\n",
       "      <th></th>\n",
       "      <th>userid</th>\n",
       "      <th>movieid</th>\n",
       "      <th>rating</th>\n",
       "      <th>timestamp</th>\n",
       "      <th>pos</th>\n",
       "    </tr>\n",
       "  </thead>\n",
       "  <tbody>\n",
       "    <tr>\n",
       "      <th>31</th>\n",
       "      <td>0</td>\n",
       "      <td>2925</td>\n",
       "      <td>4</td>\n",
       "      <td>978300019</td>\n",
       "      <td>147</td>\n",
       "    </tr>\n",
       "    <tr>\n",
       "      <th>27</th>\n",
       "      <td>0</td>\n",
       "      <td>1547</td>\n",
       "      <td>4</td>\n",
       "      <td>978300055</td>\n",
       "      <td>148</td>\n",
       "    </tr>\n",
       "    <tr>\n",
       "      <th>22</th>\n",
       "      <td>0</td>\n",
       "      <td>1158</td>\n",
       "      <td>5</td>\n",
       "      <td>978300055</td>\n",
       "      <td>149</td>\n",
       "    </tr>\n",
       "    <tr>\n",
       "      <th>37</th>\n",
       "      <td>0</td>\n",
       "      <td>939</td>\n",
       "      <td>5</td>\n",
       "      <td>978300055</td>\n",
       "      <td>150</td>\n",
       "    </tr>\n",
       "    <tr>\n",
       "      <th>24</th>\n",
       "      <td>0</td>\n",
       "      <td>2111</td>\n",
       "      <td>3</td>\n",
       "      <td>978300103</td>\n",
       "      <td>151</td>\n",
       "    </tr>\n",
       "  </tbody>\n",
       "</table>\n",
       "</div>"
      ],
      "text/plain": [
       "    userid  movieid  rating  timestamp  pos\n",
       "31       0     2925       4  978300019  147\n",
       "27       0     1547       4  978300055  148\n",
       "22       0     1158       5  978300055  149\n",
       "37       0      939       5  978300055  150\n",
       "24       0     2111       3  978300103  151"
      ]
     },
     "execution_count": 5,
     "metadata": {},
     "output_type": "execute_result"
    }
   ],
   "source": [
    "training_data.head()"
   ]
  },
  {
   "cell_type": "code",
   "execution_count": 6,
   "metadata": {},
   "outputs": [
    {
     "data": {
      "text/html": [
       "<div>\n",
       "<style scoped>\n",
       "    .dataframe tbody tr th:only-of-type {\n",
       "        vertical-align: middle;\n",
       "    }\n",
       "\n",
       "    .dataframe tbody tr th {\n",
       "        vertical-align: top;\n",
       "    }\n",
       "\n",
       "    .dataframe thead th {\n",
       "        text-align: right;\n",
       "    }\n",
       "</style>\n",
       "<table border=\"1\" class=\"dataframe\">\n",
       "  <thead>\n",
       "    <tr style=\"text-align: right;\">\n",
       "      <th></th>\n",
       "      <th>userid</th>\n",
       "      <th>movieid</th>\n",
       "      <th>rating</th>\n",
       "      <th>timestamp</th>\n",
       "      <th>pos</th>\n",
       "    </tr>\n",
       "  </thead>\n",
       "  <tbody>\n",
       "    <tr>\n",
       "      <th>2503</th>\n",
       "      <td>20</td>\n",
       "      <td>1529</td>\n",
       "      <td>3</td>\n",
       "      <td>1009669071</td>\n",
       "      <td>191</td>\n",
       "    </tr>\n",
       "    <tr>\n",
       "      <th>2512</th>\n",
       "      <td>20</td>\n",
       "      <td>1334</td>\n",
       "      <td>3</td>\n",
       "      <td>1009669071</td>\n",
       "      <td>192</td>\n",
       "    </tr>\n",
       "    <tr>\n",
       "      <th>2513</th>\n",
       "      <td>20</td>\n",
       "      <td>3425</td>\n",
       "      <td>2</td>\n",
       "      <td>1009669071</td>\n",
       "      <td>193</td>\n",
       "    </tr>\n",
       "    <tr>\n",
       "      <th>2517</th>\n",
       "      <td>20</td>\n",
       "      <td>2610</td>\n",
       "      <td>4</td>\n",
       "      <td>1009669071</td>\n",
       "      <td>194</td>\n",
       "    </tr>\n",
       "    <tr>\n",
       "      <th>2504</th>\n",
       "      <td>20</td>\n",
       "      <td>2399</td>\n",
       "      <td>4</td>\n",
       "      <td>1009669115</td>\n",
       "      <td>195</td>\n",
       "    </tr>\n",
       "  </tbody>\n",
       "</table>\n",
       "</div>"
      ],
      "text/plain": [
       "      userid  movieid  rating   timestamp  pos\n",
       "2503      20     1529       3  1009669071  191\n",
       "2512      20     1334       3  1009669071  192\n",
       "2513      20     3425       2  1009669071  193\n",
       "2517      20     2610       4  1009669071  194\n",
       "2504      20     2399       4  1009669115  195"
      ]
     },
     "execution_count": 6,
     "metadata": {},
     "output_type": "execute_result"
    }
   ],
   "source": [
    "testset_valid.head()"
   ]
  },
  {
   "cell_type": "code",
   "execution_count": 7,
   "metadata": {},
   "outputs": [
    {
     "data": {
      "text/html": [
       "<div>\n",
       "<style scoped>\n",
       "    .dataframe tbody tr th:only-of-type {\n",
       "        vertical-align: middle;\n",
       "    }\n",
       "\n",
       "    .dataframe tbody tr th {\n",
       "        vertical-align: top;\n",
       "    }\n",
       "\n",
       "    .dataframe thead th {\n",
       "        text-align: right;\n",
       "    }\n",
       "</style>\n",
       "<table border=\"1\" class=\"dataframe\">\n",
       "  <thead>\n",
       "    <tr style=\"text-align: right;\">\n",
       "      <th></th>\n",
       "      <th>userid</th>\n",
       "      <th>movieid</th>\n",
       "      <th>rating</th>\n",
       "      <th>timestamp</th>\n",
       "      <th>pos</th>\n",
       "    </tr>\n",
       "  </thead>\n",
       "  <tbody>\n",
       "    <tr>\n",
       "      <th>2327</th>\n",
       "      <td>19</td>\n",
       "      <td>308</td>\n",
       "      <td>4</td>\n",
       "      <td>994556598</td>\n",
       "      <td>199</td>\n",
       "    </tr>\n",
       "    <tr>\n",
       "      <th>2512</th>\n",
       "      <td>20</td>\n",
       "      <td>1334</td>\n",
       "      <td>3</td>\n",
       "      <td>1009669071</td>\n",
       "      <td>190</td>\n",
       "    </tr>\n",
       "    <tr>\n",
       "      <th>2503</th>\n",
       "      <td>20</td>\n",
       "      <td>1529</td>\n",
       "      <td>3</td>\n",
       "      <td>1009669071</td>\n",
       "      <td>191</td>\n",
       "    </tr>\n",
       "    <tr>\n",
       "      <th>2513</th>\n",
       "      <td>20</td>\n",
       "      <td>3425</td>\n",
       "      <td>2</td>\n",
       "      <td>1009669071</td>\n",
       "      <td>192</td>\n",
       "    </tr>\n",
       "    <tr>\n",
       "      <th>2517</th>\n",
       "      <td>20</td>\n",
       "      <td>2610</td>\n",
       "      <td>4</td>\n",
       "      <td>1009669071</td>\n",
       "      <td>193</td>\n",
       "    </tr>\n",
       "  </tbody>\n",
       "</table>\n",
       "</div>"
      ],
      "text/plain": [
       "      userid  movieid  rating   timestamp  pos\n",
       "2327      19      308       4   994556598  199\n",
       "2512      20     1334       3  1009669071  190\n",
       "2503      20     1529       3  1009669071  191\n",
       "2513      20     3425       2  1009669071  192\n",
       "2517      20     2610       4  1009669071  193"
      ]
     },
     "execution_count": 7,
     "metadata": {},
     "output_type": "execute_result"
    }
   ],
   "source": [
    "testset.head()"
   ]
  },
  {
   "cell_type": "markdown",
   "metadata": {},
   "source": [
    "# Model"
   ]
  },
  {
   "cell_type": "code",
   "execution_count": 8,
   "metadata": {},
   "outputs": [
    {
     "data": {
      "text/plain": [
       "{'userid': 'userid',\n",
       " 'itemid': 'movieid',\n",
       " 'positionid': 'pos',\n",
       " 'n_users': 5227,\n",
       " 'n_items': 3652,\n",
       " 'n_pos': 200}"
      ]
     },
     "execution_count": 8,
     "metadata": {},
     "output_type": "execute_result"
    }
   ],
   "source": [
    "data_index = train_pack[1]\n",
    "data_description = dict(\n",
    "    userid = data_index['userid'].name,\n",
    "    itemid = data_index['itemid'].name,\n",
    "    positionid = 'pos',\n",
    "    n_users = len(data_index['userid']),\n",
    "    n_items = len(data_index['itemid']),\n",
    "    n_pos = n_pos\n",
    ")\n",
    "data_description"
   ]
  },
  {
   "cell_type": "code",
   "execution_count": 9,
   "metadata": {},
   "outputs": [],
   "source": [
    "config = {\n",
    "    \"mlrank\": (30, 25, 5),\n",
    "    \"n_pos\": n_pos,\n",
    "    \"max_iters\": 4,\n",
    "    \"update_order\": (2, 1, 0),\n",
    "    \"growth_tol\": 1e-6,\n",
    "    \"seed\": 42\n",
    "}"
   ]
  },
  {
   "cell_type": "code",
   "execution_count": 10,
   "metadata": {},
   "outputs": [
    {
     "name": "stdout",
     "output_type": "stream",
     "text": [
      "Step 0 growth of the core: 1.0\n",
      "Step 1 growth of the core: 0.2698172410844231\n",
      "Step 2 growth of the core: 0.07639764225919966\n",
      "Step 3 growth of the core: 0.03588010308599026\n"
     ]
    }
   ],
   "source": [
    "tf_params_old = seqtf_model_build(config, training_data, data_description)"
   ]
  },
  {
   "cell_type": "markdown",
   "metadata": {},
   "source": [
    "# Tuning"
   ]
  },
  {
   "cell_type": "code",
   "execution_count": 11,
   "metadata": {},
   "outputs": [],
   "source": [
    "def tf_evaluator(testset, holdout, data_description, core_projected, topn=10):\n",
    "    def iter_evaluate(core_factors, factors):\n",
    "        model_params = tuple(factors) + (core_factors,)\n",
    "        scores = tf_scoring(model_params, testset, data_description, core_projected=core_projected) \n",
    "        downvote_seen_items(scores, testset, data_description)\n",
    "        top_recs = topn_recommendations(scores, topn=topn)\n",
    "        hr, *_ = model_evaluate(top_recs, holdout, data_description)\n",
    "        return hr\n",
    "    return iter_evaluate\n",
    "\n",
    "class TFParamStore:\n",
    "    core = None\n",
    "    factors = None\n",
    "    def __call__(self, core_factors, factors):\n",
    "        self.core = core_factors\n",
    "        self.factors = factors"
   ]
  },
  {
   "cell_type": "code",
   "execution_count": 12,
   "metadata": {},
   "outputs": [
    {
     "name": "stdout",
     "output_type": "stream",
     "text": [
      "Step 0 metric score: 0.024\n",
      "Step 1 metric score: 0.048\n",
      "Step 2 metric score: 0.042666666666666665\n",
      "Step 3 metric score: 0.04666666666666667\n",
      "Metric no longer improves. Best score 0.048, attained in 2 iterations.\n"
     ]
    }
   ],
   "source": [
    "evaluator = tf_evaluator(testset_valid, valid_pack[1], data_description, core_projected=True)\n",
    "optimal_params = TFParamStore()\n",
    "early_stopper = early_stopping_callback(evaluator, max_fails=2, param_store=optimal_params)\n",
    "\n",
    "params = seqtf_model_build(\n",
    "    {**config, **{'max_iters': 15}},\n",
    "    training_data,\n",
    "    data_description,\n",
    "    iter_callback=early_stopper\n",
    ")"
   ]
  },
  {
   "cell_type": "code",
   "execution_count": 13,
   "metadata": {},
   "outputs": [
    {
     "data": {
      "image/png": "[encoded data removed]",
      "text/plain": [
       "<Figure size 432x288 with 1 Axes>"
      ]
     },
     "metadata": {
      "needs_background": "light"
     },
     "output_type": "display_data"
    }
   ],
   "source": [
    "ax = pd.Series(optimal_params.core[0]).plot(label='optimal')\n",
    "pd.Series(params[-1][0]).plot(ax=ax, label='final')\n",
    "ax.legend();"
   ]
  },
  {
   "cell_type": "code",
   "execution_count": 14,
   "metadata": {},
   "outputs": [
    {
     "name": "stdout",
     "output_type": "stream",
     "text": [
      "Step 0 metric score: 0.028\n",
      "Step 1 metric score: 0.034666666666666665\n",
      "Step 2 metric score: 0.037333333333333336\n",
      "Step 3 metric score: 0.042666666666666665\n",
      "Step 4 metric score: 0.04666666666666667\n",
      "Step 5 metric score: 0.04\n",
      "Step 6 metric score: 0.042666666666666665\n",
      "Metric no longer improves. Best score 0.04666666666666667, attained in 5 iterations.\n"
     ]
    }
   ],
   "source": [
    "evaluator = tf_evaluator(testset_valid, valid_pack[1], data_description, core_projected=False)\n",
    "early_stopper_no_proj = early_stopping_callback(evaluator, max_fails=2, param_store=None)\n",
    "\n",
    "params = seqtf_model_build(\n",
    "    {**config, **{'max_iters': 15}},\n",
    "    training_data,\n",
    "    data_description,\n",
    "    iter_callback=early_stopper_no_proj\n",
    ")"
   ]
  },
  {
   "cell_type": "code",
   "execution_count": 15,
   "metadata": {},
   "outputs": [
    {
     "name": "stdout",
     "output_type": "stream",
     "text": [
      "Step 0 metric score: 0.02266666666666667\n",
      "Step 1 metric score: 0.037333333333333336\n",
      "Step 2 metric score: 0.044\n",
      "Step 3 metric score: 0.04533333333333334\n",
      "Step 4 metric score: 0.04533333333333334\n",
      "Step 5 metric score: 0.044\n",
      "Metric no longer improves. Best score 0.04533333333333334, attained in 4 iterations.\n"
     ]
    }
   ],
   "source": [
    "evaluator = tf_evaluator(testset_valid, valid_pack[1], data_description, core_projected=False)\n",
    "early_stopper_012 = early_stopping_callback(evaluator, max_fails=2, param_store=None)\n",
    "\n",
    "params = seqtf_model_build(\n",
    "    {**config, **{'max_iters': 15, \"update_order\": (0, 1, 2)}},\n",
    "    training_data,\n",
    "    data_description,\n",
    "    iter_callback=early_stopper_012\n",
    ")"
   ]
  },
  {
   "cell_type": "code",
   "execution_count": 16,
   "metadata": {},
   "outputs": [
    {
     "data": {
      "image/png": "[encoded data removed]",
      "text/plain": [
       "<Figure size 432x288 with 1 Axes>"
      ]
     },
     "metadata": {
      "needs_background": "light"
     },
     "output_type": "display_data"
    }
   ],
   "source": [
    "ax = pd.Series(early_stopper.history).plot(label='core-projected')\n",
    "pd.Series(early_stopper_no_proj.history).plot(ax=ax, label='standard - same order')\n",
    "pd.Series(early_stopper_012.history).plot(ax=ax, label='standard - initial order')\n",
    "ax.legend();"
   ]
  },
  {
   "cell_type": "code",
   "execution_count": null,
   "metadata": {},
   "outputs": [],
   "source": []
  }
 ],
 "metadata": {
  "kernelspec": {
   "display_name": "Python 3.10.4 ('core_proj')",
   "language": "python",
   "name": "python3"
  },
  "language_info": {
   "codemirror_mode": {
    "name": "ipython",
    "version": 3
   },
   "file_extension": ".py",
   "mimetype": "text/x-python",
   "name": "python",
   "nbconvert_exporter": "python",
   "pygments_lexer": "ipython3",
   "version": "3.10.4"
  },
  "orig_nbformat": 4,
  "vscode": {
   "interpreter": {
    "hash": "bfc0f0aa3674d207cc9884ddcb2eabfea21c5f4b1d5f646100190a3966ca1af2"
   }
  }
 },
 "nbformat": 4,
 "nbformat_minor": 2
}
