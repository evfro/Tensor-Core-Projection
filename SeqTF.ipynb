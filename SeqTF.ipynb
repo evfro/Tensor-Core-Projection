{
 "cells": [
  {
   "cell_type": "code",
   "execution_count": 1,
   "metadata": {},
   "outputs": [],
   "source": [
    "import numpy as np\n",
    "\n",
    "from polara import get_movielens_data\n",
    "from polara.preprocessing.dataframes import leave_one_out, reindex\n",
    "\n",
    "from hooi import sparse_hooi\n",
    "from dataprep import transform_indices"
   ]
  },
  {
   "cell_type": "markdown",
   "metadata": {},
   "source": [
    "# Preparing Data"
   ]
  },
  {
   "cell_type": "code",
   "execution_count": 2,
   "metadata": {},
   "outputs": [
    {
     "data": {
      "text/html": [
       "<div>\n",
       "<style scoped>\n",
       "    .dataframe tbody tr th:only-of-type {\n",
       "        vertical-align: middle;\n",
       "    }\n",
       "\n",
       "    .dataframe tbody tr th {\n",
       "        vertical-align: top;\n",
       "    }\n",
       "\n",
       "    .dataframe thead th {\n",
       "        text-align: right;\n",
       "    }\n",
       "</style>\n",
       "<table border=\"1\" class=\"dataframe\">\n",
       "  <thead>\n",
       "    <tr style=\"text-align: right;\">\n",
       "      <th></th>\n",
       "      <th>userid</th>\n",
       "      <th>movieid</th>\n",
       "      <th>rating</th>\n",
       "      <th>timestamp</th>\n",
       "    </tr>\n",
       "  </thead>\n",
       "  <tbody>\n",
       "    <tr>\n",
       "      <th>0</th>\n",
       "      <td>1</td>\n",
       "      <td>1193</td>\n",
       "      <td>5</td>\n",
       "      <td>978300760</td>\n",
       "    </tr>\n",
       "    <tr>\n",
       "      <th>1</th>\n",
       "      <td>1</td>\n",
       "      <td>661</td>\n",
       "      <td>3</td>\n",
       "      <td>978302109</td>\n",
       "    </tr>\n",
       "    <tr>\n",
       "      <th>2</th>\n",
       "      <td>1</td>\n",
       "      <td>914</td>\n",
       "      <td>3</td>\n",
       "      <td>978301968</td>\n",
       "    </tr>\n",
       "    <tr>\n",
       "      <th>3</th>\n",
       "      <td>1</td>\n",
       "      <td>3408</td>\n",
       "      <td>4</td>\n",
       "      <td>978300275</td>\n",
       "    </tr>\n",
       "    <tr>\n",
       "      <th>4</th>\n",
       "      <td>1</td>\n",
       "      <td>2355</td>\n",
       "      <td>5</td>\n",
       "      <td>978824291</td>\n",
       "    </tr>\n",
       "  </tbody>\n",
       "</table>\n",
       "</div>"
      ],
      "text/plain": [
       "   userid  movieid  rating  timestamp\n",
       "0       1     1193       5  978300760\n",
       "1       1      661       3  978302109\n",
       "2       1      914       3  978301968\n",
       "3       1     3408       4  978300275\n",
       "4       1     2355       5  978824291"
      ]
     },
     "execution_count": 2,
     "metadata": {},
     "output_type": "execute_result"
    }
   ],
   "source": [
    "mldata = get_movielens_data(include_time=True)\n",
    "mldata.head()"
   ]
  },
  {
   "cell_type": "markdown",
   "metadata": {},
   "source": [
    "## Split Data"
   ]
  },
  {
   "cell_type": "code",
   "execution_count": 3,
   "metadata": {},
   "outputs": [],
   "source": [
    "def split_data(data, userid='userid', itemid='movieid', timeid='timestamp', time_q=0.95, seed=None):\n",
    "    timepoint = data[timeid].quantile(q=time_q, interpolation='nearest')\n",
    "    test_data_ = data.query(f'{timeid} >= @timepoint')\n",
    "    warm_users = test_data_[userid].unique()\n",
    "    train_data_ = data.query(f'{userid} not in @warm_users and {timeid} < @timepoint')\n",
    "    training, data_index = transform_indices(train_data_.copy(), userid, itemid)\n",
    "    \n",
    "    test_data = reindex(test_data_, data_index['items'])\n",
    "    random_state = None if seed is None else np.random.RandomState(seed)\n",
    "    leave_one_out_config = dict(target=timeid, sample_top=True, random_state=random_state)\n",
    "    # final test data\n",
    "    testset_, holdout_ = leave_one_out(test_data, **leave_one_out_config)\n",
    "    testset, holdout = align_test_data(testset_, holdout_)\n",
    "    # validation data\n",
    "    testset_valid_, holdout_valid_ = leave_one_out(testset_, **leave_one_out_config)\n",
    "    testset_valid, holdout_valid = align_test_data(testset_valid_, holdout_valid_)\n",
    "    return (training, data_index), (testset_valid, holdout_valid), (testset, holdout) \n",
    "\n",
    "def align_test_data(testset, holdout, userid='userid', itemid='movieid'):\n",
    "    test_users = np.intersect1d(testset.userid.unique(), holdout.userid.unique())\n",
    "    testset = testset.query(f'{userid} in @test_users').sort_values(userid)\n",
    "    holdout = holdout.query(f'{userid} in @test_users').sort_values(userid)\n",
    "    return testset, holdout"
   ]
  },
  {
   "cell_type": "code",
   "execution_count": 4,
   "metadata": {},
   "outputs": [
    {
     "name": "stdout",
     "output_type": "stream",
     "text": [
      "Filtered 64 invalid observations.\n"
     ]
    }
   ],
   "source": [
    "train_pack, valid_pack, test_pack = split_data(mldata)"
   ]
  },
  {
   "cell_type": "markdown",
   "metadata": {},
   "source": [
    "## Assign positional info"
   ]
  },
  {
   "cell_type": "code",
   "execution_count": 5,
   "metadata": {},
   "outputs": [],
   "source": [
    "n_pos = 200"
   ]
  },
  {
   "cell_type": "code",
   "execution_count": 6,
   "metadata": {},
   "outputs": [],
   "source": [
    "def assign_positions(data, userid='userid', itemid='movieid', timeid='timestamp'):\n",
    "    return (\n",
    "        data\n",
    "        .sort_values(timeid)\n",
    "        .assign(\n",
    "            pos=lambda df: df.groupby(userid)[itemid].transform(enumerate_events)\n",
    "        )\n",
    "        .query('pos>=0')\n",
    "        .sort_values([userid, timeid])\n",
    "    )\n",
    "\n",
    "def enumerate_events(s, maxlen=n_pos):\n",
    "    return np.arange(maxlen-len(s), maxlen)"
   ]
  },
  {
   "cell_type": "code",
   "execution_count": 7,
   "metadata": {},
   "outputs": [],
   "source": [
    "training_data = assign_positions(train_pack[0])\n",
    "testset_valid = assign_positions(valid_pack[0])\n",
    "testset = assign_positions(test_pack[0])"
   ]
  },
  {
   "cell_type": "code",
   "execution_count": 8,
   "metadata": {},
   "outputs": [
    {
     "data": {
      "text/html": [
       "<div>\n",
       "<style scoped>\n",
       "    .dataframe tbody tr th:only-of-type {\n",
       "        vertical-align: middle;\n",
       "    }\n",
       "\n",
       "    .dataframe tbody tr th {\n",
       "        vertical-align: top;\n",
       "    }\n",
       "\n",
       "    .dataframe thead th {\n",
       "        text-align: right;\n",
       "    }\n",
       "</style>\n",
       "<table border=\"1\" class=\"dataframe\">\n",
       "  <thead>\n",
       "    <tr style=\"text-align: right;\">\n",
       "      <th></th>\n",
       "      <th>userid</th>\n",
       "      <th>movieid</th>\n",
       "      <th>rating</th>\n",
       "      <th>timestamp</th>\n",
       "      <th>pos</th>\n",
       "    </tr>\n",
       "  </thead>\n",
       "  <tbody>\n",
       "    <tr>\n",
       "      <th>31</th>\n",
       "      <td>0</td>\n",
       "      <td>2925</td>\n",
       "      <td>4</td>\n",
       "      <td>978300019</td>\n",
       "      <td>147</td>\n",
       "    </tr>\n",
       "    <tr>\n",
       "      <th>27</th>\n",
       "      <td>0</td>\n",
       "      <td>1547</td>\n",
       "      <td>4</td>\n",
       "      <td>978300055</td>\n",
       "      <td>148</td>\n",
       "    </tr>\n",
       "    <tr>\n",
       "      <th>22</th>\n",
       "      <td>0</td>\n",
       "      <td>1158</td>\n",
       "      <td>5</td>\n",
       "      <td>978300055</td>\n",
       "      <td>149</td>\n",
       "    </tr>\n",
       "    <tr>\n",
       "      <th>37</th>\n",
       "      <td>0</td>\n",
       "      <td>939</td>\n",
       "      <td>5</td>\n",
       "      <td>978300055</td>\n",
       "      <td>150</td>\n",
       "    </tr>\n",
       "    <tr>\n",
       "      <th>24</th>\n",
       "      <td>0</td>\n",
       "      <td>2111</td>\n",
       "      <td>3</td>\n",
       "      <td>978300103</td>\n",
       "      <td>151</td>\n",
       "    </tr>\n",
       "  </tbody>\n",
       "</table>\n",
       "</div>"
      ],
      "text/plain": [
       "    userid  movieid  rating  timestamp  pos\n",
       "31       0     2925       4  978300019  147\n",
       "27       0     1547       4  978300055  148\n",
       "22       0     1158       5  978300055  149\n",
       "37       0      939       5  978300055  150\n",
       "24       0     2111       3  978300103  151"
      ]
     },
     "execution_count": 8,
     "metadata": {},
     "output_type": "execute_result"
    }
   ],
   "source": [
    "training_data.head()"
   ]
  },
  {
   "cell_type": "code",
   "execution_count": 9,
   "metadata": {},
   "outputs": [
    {
     "data": {
      "text/html": [
       "<div>\n",
       "<style scoped>\n",
       "    .dataframe tbody tr th:only-of-type {\n",
       "        vertical-align: middle;\n",
       "    }\n",
       "\n",
       "    .dataframe tbody tr th {\n",
       "        vertical-align: top;\n",
       "    }\n",
       "\n",
       "    .dataframe thead th {\n",
       "        text-align: right;\n",
       "    }\n",
       "</style>\n",
       "<table border=\"1\" class=\"dataframe\">\n",
       "  <thead>\n",
       "    <tr style=\"text-align: right;\">\n",
       "      <th></th>\n",
       "      <th>userid</th>\n",
       "      <th>movieid</th>\n",
       "      <th>rating</th>\n",
       "      <th>timestamp</th>\n",
       "      <th>pos</th>\n",
       "    </tr>\n",
       "  </thead>\n",
       "  <tbody>\n",
       "    <tr>\n",
       "      <th>2503</th>\n",
       "      <td>20</td>\n",
       "      <td>1529</td>\n",
       "      <td>3</td>\n",
       "      <td>1009669071</td>\n",
       "      <td>191</td>\n",
       "    </tr>\n",
       "    <tr>\n",
       "      <th>2512</th>\n",
       "      <td>20</td>\n",
       "      <td>1334</td>\n",
       "      <td>3</td>\n",
       "      <td>1009669071</td>\n",
       "      <td>192</td>\n",
       "    </tr>\n",
       "    <tr>\n",
       "      <th>2513</th>\n",
       "      <td>20</td>\n",
       "      <td>3425</td>\n",
       "      <td>2</td>\n",
       "      <td>1009669071</td>\n",
       "      <td>193</td>\n",
       "    </tr>\n",
       "    <tr>\n",
       "      <th>2517</th>\n",
       "      <td>20</td>\n",
       "      <td>2610</td>\n",
       "      <td>4</td>\n",
       "      <td>1009669071</td>\n",
       "      <td>194</td>\n",
       "    </tr>\n",
       "    <tr>\n",
       "      <th>2504</th>\n",
       "      <td>20</td>\n",
       "      <td>2399</td>\n",
       "      <td>4</td>\n",
       "      <td>1009669115</td>\n",
       "      <td>195</td>\n",
       "    </tr>\n",
       "  </tbody>\n",
       "</table>\n",
       "</div>"
      ],
      "text/plain": [
       "      userid  movieid  rating   timestamp  pos\n",
       "2503      20     1529       3  1009669071  191\n",
       "2512      20     1334       3  1009669071  192\n",
       "2513      20     3425       2  1009669071  193\n",
       "2517      20     2610       4  1009669071  194\n",
       "2504      20     2399       4  1009669115  195"
      ]
     },
     "execution_count": 9,
     "metadata": {},
     "output_type": "execute_result"
    }
   ],
   "source": [
    "testset_valid.head()"
   ]
  },
  {
   "cell_type": "code",
   "execution_count": 10,
   "metadata": {},
   "outputs": [
    {
     "data": {
      "text/html": [
       "<div>\n",
       "<style scoped>\n",
       "    .dataframe tbody tr th:only-of-type {\n",
       "        vertical-align: middle;\n",
       "    }\n",
       "\n",
       "    .dataframe tbody tr th {\n",
       "        vertical-align: top;\n",
       "    }\n",
       "\n",
       "    .dataframe thead th {\n",
       "        text-align: right;\n",
       "    }\n",
       "</style>\n",
       "<table border=\"1\" class=\"dataframe\">\n",
       "  <thead>\n",
       "    <tr style=\"text-align: right;\">\n",
       "      <th></th>\n",
       "      <th>userid</th>\n",
       "      <th>movieid</th>\n",
       "      <th>rating</th>\n",
       "      <th>timestamp</th>\n",
       "      <th>pos</th>\n",
       "    </tr>\n",
       "  </thead>\n",
       "  <tbody>\n",
       "    <tr>\n",
       "      <th>2327</th>\n",
       "      <td>19</td>\n",
       "      <td>308</td>\n",
       "      <td>4</td>\n",
       "      <td>994556598</td>\n",
       "      <td>199</td>\n",
       "    </tr>\n",
       "    <tr>\n",
       "      <th>2513</th>\n",
       "      <td>20</td>\n",
       "      <td>3425</td>\n",
       "      <td>2</td>\n",
       "      <td>1009669071</td>\n",
       "      <td>190</td>\n",
       "    </tr>\n",
       "    <tr>\n",
       "      <th>2517</th>\n",
       "      <td>20</td>\n",
       "      <td>2610</td>\n",
       "      <td>4</td>\n",
       "      <td>1009669071</td>\n",
       "      <td>191</td>\n",
       "    </tr>\n",
       "    <tr>\n",
       "      <th>2512</th>\n",
       "      <td>20</td>\n",
       "      <td>1334</td>\n",
       "      <td>3</td>\n",
       "      <td>1009669071</td>\n",
       "      <td>192</td>\n",
       "    </tr>\n",
       "    <tr>\n",
       "      <th>2503</th>\n",
       "      <td>20</td>\n",
       "      <td>1529</td>\n",
       "      <td>3</td>\n",
       "      <td>1009669071</td>\n",
       "      <td>193</td>\n",
       "    </tr>\n",
       "  </tbody>\n",
       "</table>\n",
       "</div>"
      ],
      "text/plain": [
       "      userid  movieid  rating   timestamp  pos\n",
       "2327      19      308       4   994556598  199\n",
       "2513      20     3425       2  1009669071  190\n",
       "2517      20     2610       4  1009669071  191\n",
       "2512      20     1334       3  1009669071  192\n",
       "2503      20     1529       3  1009669071  193"
      ]
     },
     "execution_count": 10,
     "metadata": {},
     "output_type": "execute_result"
    }
   ],
   "source": [
    "testset.head()"
   ]
  },
  {
   "cell_type": "markdown",
   "metadata": {},
   "source": [
    "# Model"
   ]
  },
  {
   "cell_type": "code",
   "execution_count": 16,
   "metadata": {},
   "outputs": [],
   "source": [
    "def seqtf_model_build(config, data, data_description, projected=True):\n",
    "    users = data_description[\"userid\"]\n",
    "    items = data_description[\"itemid\"]\n",
    "    positions = data_description[\"positionid\"]\n",
    "\n",
    "    n_users = data_description[\"n_users\"]\n",
    "    n_items = data_description[\"n_items\"]\n",
    "    max_pos = data_description[\"n_pos\"]\n",
    "    shape = (n_users, n_items, max_pos)\n",
    "\n",
    "    idx = data[[users, items, positions]].values\n",
    "    val = np.ones(idx.shape[0], dtype='f8')\n",
    "\n",
    "    return sparse_hooi(\n",
    "        idx, val, shape, config[\"mlrank\"],\n",
    "        max_iters = config[\"num_iters\"],\n",
    "        update_order=(2, 1, 0) if projected else (0, 1, 2),\n",
    "        materialize_core=not projected,\n",
    "        growth_tol = config[\"growth_tol\"],\n",
    "        seed = config[\"seed\"],\n",
    "        verbose=True,\n",
    "    )"
   ]
  },
  {
   "cell_type": "code",
   "execution_count": 17,
   "metadata": {},
   "outputs": [
    {
     "data": {
      "text/plain": [
       "{'userid': 'userid',\n",
       " 'itemid': 'movieid',\n",
       " 'positionid': 'pos',\n",
       " 'n_users': 5227,\n",
       " 'n_items': 3652,\n",
       " 'n_pos': 200}"
      ]
     },
     "execution_count": 17,
     "metadata": {},
     "output_type": "execute_result"
    }
   ],
   "source": [
    "data_index = train_pack[1]\n",
    "data_description = dict(\n",
    "    userid = data_index['users'].name,\n",
    "    itemid = data_index['items'].name,\n",
    "    positionid = 'pos',\n",
    "    n_users = len(data_index['users']),\n",
    "    n_items = len(data_index['items']),\n",
    "    n_pos = n_pos\n",
    ")\n",
    "data_description"
   ]
  },
  {
   "cell_type": "code",
   "execution_count": 18,
   "metadata": {},
   "outputs": [],
   "source": [
    "config = {\n",
    "    \"mlrank\": (30, 25, 5),\n",
    "    \"n_pos\": n_pos,\n",
    "    \"num_iters\": 4,\n",
    "    \"growth_tol\": 1e-6,\n",
    "    \"seed\": 42\n",
    "}"
   ]
  },
  {
   "cell_type": "code",
   "execution_count": 19,
   "metadata": {},
   "outputs": [
    {
     "name": "stdout",
     "output_type": "stream",
     "text": [
      "Step 0 growth of the core: 1.0\n",
      "Step 1 growth of the core: 0.3469342641029833\n",
      "Step 2 growth of the core: 0.10593666655915099\n",
      "Step 3 growth of the core: 0.043192304105665026\n"
     ]
    }
   ],
   "source": [
    "tf_params_old = seqtf_model_build(config, training_data, data_description, projected=False)"
   ]
  },
  {
   "cell_type": "code",
   "execution_count": 20,
   "metadata": {},
   "outputs": [
    {
     "name": "stdout",
     "output_type": "stream",
     "text": [
      "Step 0 growth of the core: 1.0\n",
      "Step 1 growth of the core: 0.26981724108442284\n",
      "Step 2 growth of the core: 0.07639764225920083\n",
      "Step 3 growth of the core: 0.035880103085990246\n"
     ]
    }
   ],
   "source": [
    "tf_params_new = seqtf_model_build(config, training_data, data_description, projected=True)"
   ]
  },
  {
   "cell_type": "code",
   "execution_count": null,
   "metadata": {},
   "outputs": [],
   "source": []
  }
 ],
 "metadata": {
  "kernelspec": {
   "display_name": "Python 3.10.4 ('core_proj')",
   "language": "python",
   "name": "python3"
  },
  "language_info": {
   "codemirror_mode": {
    "name": "ipython",
    "version": 3
   },
   "file_extension": ".py",
   "mimetype": "text/x-python",
   "name": "python",
   "nbconvert_exporter": "python",
   "pygments_lexer": "ipython3",
   "version": "3.10.4"
  },
  "orig_nbformat": 4,
  "vscode": {
   "interpreter": {
    "hash": "bfc0f0aa3674d207cc9884ddcb2eabfea21c5f4b1d5f646100190a3966ca1af2"
   }
  }
 },
 "nbformat": 4,
 "nbformat_minor": 2
}
