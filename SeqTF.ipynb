{
 "cells": [
  {
   "cell_type": "code",
   "execution_count": 1,
   "metadata": {},
   "outputs": [],
   "source": [
    "import numpy as np\n",
    "import pandas as pd\n",
    "\n",
    "from polara import get_movielens_data\n",
    "from polara.lib.earlystopping import early_stopping_callback\n",
    "\n",
    "from dataprep import split_data, assign_positions\n",
    "from model import seqtf_model_build, tf_scoring\n",
    "from evaluation import downvote_seen_items, model_evaluate, topn_recommendations"
   ]
  },
  {
   "cell_type": "markdown",
   "metadata": {},
   "source": [
    "# Preparing Data"
   ]
  },
  {
   "cell_type": "code",
   "execution_count": 2,
   "metadata": {},
   "outputs": [
    {
     "data": {
      "text/html": [
       "<div>\n",
       "<style scoped>\n",
       "    .dataframe tbody tr th:only-of-type {\n",
       "        vertical-align: middle;\n",
       "    }\n",
       "\n",
       "    .dataframe tbody tr th {\n",
       "        vertical-align: top;\n",
       "    }\n",
       "\n",
       "    .dataframe thead th {\n",
       "        text-align: right;\n",
       "    }\n",
       "</style>\n",
       "<table border=\"1\" class=\"dataframe\">\n",
       "  <thead>\n",
       "    <tr style=\"text-align: right;\">\n",
       "      <th></th>\n",
       "      <th>userid</th>\n",
       "      <th>movieid</th>\n",
       "      <th>rating</th>\n",
       "      <th>timestamp</th>\n",
       "    </tr>\n",
       "  </thead>\n",
       "  <tbody>\n",
       "    <tr>\n",
       "      <th>0</th>\n",
       "      <td>1</td>\n",
       "      <td>1193</td>\n",
       "      <td>5</td>\n",
       "      <td>978300760</td>\n",
       "    </tr>\n",
       "    <tr>\n",
       "      <th>1</th>\n",
       "      <td>1</td>\n",
       "      <td>661</td>\n",
       "      <td>3</td>\n",
       "      <td>978302109</td>\n",
       "    </tr>\n",
       "    <tr>\n",
       "      <th>2</th>\n",
       "      <td>1</td>\n",
       "      <td>914</td>\n",
       "      <td>3</td>\n",
       "      <td>978301968</td>\n",
       "    </tr>\n",
       "    <tr>\n",
       "      <th>3</th>\n",
       "      <td>1</td>\n",
       "      <td>3408</td>\n",
       "      <td>4</td>\n",
       "      <td>978300275</td>\n",
       "    </tr>\n",
       "    <tr>\n",
       "      <th>4</th>\n",
       "      <td>1</td>\n",
       "      <td>2355</td>\n",
       "      <td>5</td>\n",
       "      <td>978824291</td>\n",
       "    </tr>\n",
       "  </tbody>\n",
       "</table>\n",
       "</div>"
      ],
      "text/plain": [
       "   userid  movieid  rating  timestamp\n",
       "0       1     1193       5  978300760\n",
       "1       1      661       3  978302109\n",
       "2       1      914       3  978301968\n",
       "3       1     3408       4  978300275\n",
       "4       1     2355       5  978824291"
      ]
     },
     "execution_count": 2,
     "metadata": {},
     "output_type": "execute_result"
    }
   ],
   "source": [
    "mldata = get_movielens_data('ml-1m.zip', include_time=True)\n",
    "mldata.head()"
   ]
  },
  {
   "cell_type": "code",
   "execution_count": 3,
   "metadata": {},
   "outputs": [
    {
     "name": "stdout",
     "output_type": "stream",
     "text": [
      "Filtered 113 invalid observations.\n"
     ]
    }
   ],
   "source": [
    "train_pack, valid_pack, test_pack = split_data(mldata, time_q=0.9)"
   ]
  },
  {
   "cell_type": "code",
   "execution_count": 4,
   "metadata": {},
   "outputs": [],
   "source": [
    "n_pos = 200\n",
    "\n",
    "training_data = assign_positions(train_pack[0], n_pos)\n",
    "testset_valid = assign_positions(valid_pack[0], n_pos)\n",
    "testset = assign_positions(test_pack[0], n_pos)"
   ]
  },
  {
   "cell_type": "code",
   "execution_count": 5,
   "metadata": {},
   "outputs": [
    {
     "data": {
      "text/html": [
       "<div>\n",
       "<style scoped>\n",
       "    .dataframe tbody tr th:only-of-type {\n",
       "        vertical-align: middle;\n",
       "    }\n",
       "\n",
       "    .dataframe tbody tr th {\n",
       "        vertical-align: top;\n",
       "    }\n",
       "\n",
       "    .dataframe thead th {\n",
       "        text-align: right;\n",
       "    }\n",
       "</style>\n",
       "<table border=\"1\" class=\"dataframe\">\n",
       "  <thead>\n",
       "    <tr style=\"text-align: right;\">\n",
       "      <th></th>\n",
       "      <th>userid</th>\n",
       "      <th>movieid</th>\n",
       "      <th>rating</th>\n",
       "      <th>timestamp</th>\n",
       "      <th>pos</th>\n",
       "    </tr>\n",
       "  </thead>\n",
       "  <tbody>\n",
       "    <tr>\n",
       "      <th>3805</th>\n",
       "      <td>0</td>\n",
       "      <td>786</td>\n",
       "      <td>5</td>\n",
       "      <td>978128786</td>\n",
       "      <td>130</td>\n",
       "    </tr>\n",
       "    <tr>\n",
       "      <th>3819</th>\n",
       "      <td>0</td>\n",
       "      <td>1789</td>\n",
       "      <td>2</td>\n",
       "      <td>978128821</td>\n",
       "      <td>131</td>\n",
       "    </tr>\n",
       "    <tr>\n",
       "      <th>3785</th>\n",
       "      <td>0</td>\n",
       "      <td>289</td>\n",
       "      <td>4</td>\n",
       "      <td>978128821</td>\n",
       "      <td>132</td>\n",
       "    </tr>\n",
       "    <tr>\n",
       "      <th>3832</th>\n",
       "      <td>0</td>\n",
       "      <td>1545</td>\n",
       "      <td>3</td>\n",
       "      <td>978128865</td>\n",
       "      <td>133</td>\n",
       "    </tr>\n",
       "    <tr>\n",
       "      <th>3816</th>\n",
       "      <td>0</td>\n",
       "      <td>3290</td>\n",
       "      <td>1</td>\n",
       "      <td>978128865</td>\n",
       "      <td>134</td>\n",
       "    </tr>\n",
       "  </tbody>\n",
       "</table>\n",
       "</div>"
      ],
      "text/plain": [
       "      userid  movieid  rating  timestamp  pos\n",
       "3805       0      786       5  978128786  130\n",
       "3819       0     1789       2  978128821  131\n",
       "3785       0      289       4  978128821  132\n",
       "3832       0     1545       3  978128865  133\n",
       "3816       0     3290       1  978128865  134"
      ]
     },
     "execution_count": 5,
     "metadata": {},
     "output_type": "execute_result"
    }
   ],
   "source": [
    "training_data.head()"
   ]
  },
  {
   "cell_type": "code",
   "execution_count": 6,
   "metadata": {},
   "outputs": [
    {
     "data": {
      "text/html": [
       "<div>\n",
       "<style scoped>\n",
       "    .dataframe tbody tr th:only-of-type {\n",
       "        vertical-align: middle;\n",
       "    }\n",
       "\n",
       "    .dataframe tbody tr th {\n",
       "        vertical-align: top;\n",
       "    }\n",
       "\n",
       "    .dataframe thead th {\n",
       "        text-align: right;\n",
       "    }\n",
       "</style>\n",
       "<table border=\"1\" class=\"dataframe\">\n",
       "  <thead>\n",
       "    <tr style=\"text-align: right;\">\n",
       "      <th></th>\n",
       "      <th>userid</th>\n",
       "      <th>movieid</th>\n",
       "      <th>rating</th>\n",
       "      <th>timestamp</th>\n",
       "      <th>pos</th>\n",
       "    </tr>\n",
       "  </thead>\n",
       "  <tbody>\n",
       "    <tr>\n",
       "      <th>31</th>\n",
       "      <td>1</td>\n",
       "      <td>2915</td>\n",
       "      <td>4</td>\n",
       "      <td>978300019</td>\n",
       "      <td>149</td>\n",
       "    </tr>\n",
       "    <tr>\n",
       "      <th>27</th>\n",
       "      <td>1</td>\n",
       "      <td>1544</td>\n",
       "      <td>4</td>\n",
       "      <td>978300055</td>\n",
       "      <td>150</td>\n",
       "    </tr>\n",
       "    <tr>\n",
       "      <th>22</th>\n",
       "      <td>1</td>\n",
       "      <td>1156</td>\n",
       "      <td>5</td>\n",
       "      <td>978300055</td>\n",
       "      <td>151</td>\n",
       "    </tr>\n",
       "    <tr>\n",
       "      <th>37</th>\n",
       "      <td>1</td>\n",
       "      <td>937</td>\n",
       "      <td>5</td>\n",
       "      <td>978300055</td>\n",
       "      <td>152</td>\n",
       "    </tr>\n",
       "    <tr>\n",
       "      <th>24</th>\n",
       "      <td>1</td>\n",
       "      <td>2104</td>\n",
       "      <td>3</td>\n",
       "      <td>978300103</td>\n",
       "      <td>153</td>\n",
       "    </tr>\n",
       "  </tbody>\n",
       "</table>\n",
       "</div>"
      ],
      "text/plain": [
       "    userid  movieid  rating  timestamp  pos\n",
       "31       1     2915       4  978300019  149\n",
       "27       1     1544       4  978300055  150\n",
       "22       1     1156       5  978300055  151\n",
       "37       1      937       5  978300055  152\n",
       "24       1     2104       3  978300103  153"
      ]
     },
     "execution_count": 6,
     "metadata": {},
     "output_type": "execute_result"
    }
   ],
   "source": [
    "testset_valid.head()"
   ]
  },
  {
   "cell_type": "code",
   "execution_count": 7,
   "metadata": {},
   "outputs": [
    {
     "data": {
      "text/html": [
       "<div>\n",
       "<style scoped>\n",
       "    .dataframe tbody tr th:only-of-type {\n",
       "        vertical-align: middle;\n",
       "    }\n",
       "\n",
       "    .dataframe tbody tr th {\n",
       "        vertical-align: top;\n",
       "    }\n",
       "\n",
       "    .dataframe thead th {\n",
       "        text-align: right;\n",
       "    }\n",
       "</style>\n",
       "<table border=\"1\" class=\"dataframe\">\n",
       "  <thead>\n",
       "    <tr style=\"text-align: right;\">\n",
       "      <th></th>\n",
       "      <th>userid</th>\n",
       "      <th>movieid</th>\n",
       "      <th>rating</th>\n",
       "      <th>timestamp</th>\n",
       "      <th>pos</th>\n",
       "    </tr>\n",
       "  </thead>\n",
       "  <tbody>\n",
       "    <tr>\n",
       "      <th>31</th>\n",
       "      <td>1</td>\n",
       "      <td>2915</td>\n",
       "      <td>4</td>\n",
       "      <td>978300019</td>\n",
       "      <td>148</td>\n",
       "    </tr>\n",
       "    <tr>\n",
       "      <th>27</th>\n",
       "      <td>1</td>\n",
       "      <td>1544</td>\n",
       "      <td>4</td>\n",
       "      <td>978300055</td>\n",
       "      <td>149</td>\n",
       "    </tr>\n",
       "    <tr>\n",
       "      <th>22</th>\n",
       "      <td>1</td>\n",
       "      <td>1156</td>\n",
       "      <td>5</td>\n",
       "      <td>978300055</td>\n",
       "      <td>150</td>\n",
       "    </tr>\n",
       "    <tr>\n",
       "      <th>37</th>\n",
       "      <td>1</td>\n",
       "      <td>937</td>\n",
       "      <td>5</td>\n",
       "      <td>978300055</td>\n",
       "      <td>151</td>\n",
       "    </tr>\n",
       "    <tr>\n",
       "      <th>24</th>\n",
       "      <td>1</td>\n",
       "      <td>2104</td>\n",
       "      <td>3</td>\n",
       "      <td>978300103</td>\n",
       "      <td>152</td>\n",
       "    </tr>\n",
       "  </tbody>\n",
       "</table>\n",
       "</div>"
      ],
      "text/plain": [
       "    userid  movieid  rating  timestamp  pos\n",
       "31       1     2915       4  978300019  148\n",
       "27       1     1544       4  978300055  149\n",
       "22       1     1156       5  978300055  150\n",
       "37       1      937       5  978300055  151\n",
       "24       1     2104       3  978300103  152"
      ]
     },
     "execution_count": 7,
     "metadata": {},
     "output_type": "execute_result"
    }
   ],
   "source": [
    "testset.head()"
   ]
  },
  {
   "cell_type": "markdown",
   "metadata": {},
   "source": [
    "# Model"
   ]
  },
  {
   "cell_type": "code",
   "execution_count": 8,
   "metadata": {},
   "outputs": [
    {
     "data": {
      "text/plain": [
       "{'userid': 'userid',\n",
       " 'itemid': 'movieid',\n",
       " 'positionid': 'pos',\n",
       " 'n_users': 4831,\n",
       " 'n_items': 3635,\n",
       " 'n_pos': 200}"
      ]
     },
     "execution_count": 8,
     "metadata": {},
     "output_type": "execute_result"
    }
   ],
   "source": [
    "data_index = train_pack[1]\n",
    "data_description = dict(\n",
    "    userid = data_index['userid'].name,\n",
    "    itemid = data_index['itemid'].name,\n",
    "    positionid = 'pos',\n",
    "    n_users = len(data_index['userid']),\n",
    "    n_items = len(data_index['itemid']),\n",
    "    n_pos = n_pos\n",
    ")\n",
    "data_description"
   ]
  },
  {
   "cell_type": "code",
   "execution_count": 9,
   "metadata": {},
   "outputs": [],
   "source": [
    "config = {\n",
    "    \"mlrank\": (30, 25, 5),\n",
    "    \"n_pos\": n_pos,\n",
    "    \"max_iters\": 4,\n",
    "    \"update_order\": (2, 1, 0),\n",
    "    \"growth_tol\": 1e-6,\n",
    "    \"seed\": 42\n",
    "}"
   ]
  },
  {
   "cell_type": "code",
   "execution_count": 10,
   "metadata": {},
   "outputs": [
    {
     "name": "stdout",
     "output_type": "stream",
     "text": [
      "Step 0 growth of the core: 1.0\n",
      "Step 1 growth of the core: 0.260121144975013\n",
      "Step 2 growth of the core: 0.07896051641741418\n",
      "Step 3 growth of the core: 0.04049245048013042\n"
     ]
    }
   ],
   "source": [
    "tf_params_old = seqtf_model_build(config, training_data, data_description)"
   ]
  },
  {
   "cell_type": "markdown",
   "metadata": {},
   "source": [
    "# Tuning"
   ]
  },
  {
   "cell_type": "code",
   "execution_count": 11,
   "metadata": {},
   "outputs": [],
   "source": [
    "def tf_evaluator(testset, holdout, data_description, core_projected, topn=10):\n",
    "    def iter_evaluate(core_factors, factors):\n",
    "        model_params = tuple(factors) + (core_factors,)\n",
    "        scores = tf_scoring(model_params, testset, data_description, core_projected=core_projected) \n",
    "        downvote_seen_items(scores, testset, data_description)\n",
    "        top_recs = topn_recommendations(scores, topn=topn)\n",
    "        hr, *_ = model_evaluate(top_recs, holdout, data_description)\n",
    "        return hr\n",
    "    return iter_evaluate\n",
    "\n",
    "class TFParamStore:\n",
    "    core = None\n",
    "    factors = None\n",
    "    def __call__(self, core_factors, factors):\n",
    "        self.core = core_factors\n",
    "        self.factors = factors"
   ]
  },
  {
   "cell_type": "code",
   "execution_count": 12,
   "metadata": {},
   "outputs": [
    {
     "name": "stdout",
     "output_type": "stream",
     "text": [
      "Step 0 metric score: 0.02990325417766051\n",
      "Step 1 metric score: 0.044854881266490766\n",
      "Step 2 metric score: 0.051011433597185574\n",
      "Step 3 metric score: 0.06068601583113457\n",
      "Step 4 metric score: 0.05804749340369393\n",
      "Step 5 metric score: 0.05716798592788039\n",
      "Metric no longer improves. Best score 0.06068601583113457, attained in 4 iterations.\n"
     ]
    }
   ],
   "source": [
    "evaluator = tf_evaluator(testset_valid, valid_pack[1], data_description, core_projected=True)\n",
    "optimal_params = TFParamStore()\n",
    "early_stopper = early_stopping_callback(evaluator, max_fails=2, param_store=optimal_params)\n",
    "\n",
    "params = seqtf_model_build(\n",
    "    {**config, **{'max_iters': 15}},\n",
    "    training_data,\n",
    "    data_description,\n",
    "    iter_callback=early_stopper\n",
    ")"
   ]
  },
  {
   "cell_type": "code",
   "execution_count": 13,
   "metadata": {},
   "outputs": [
    {
     "data": {
      "image/png": "[encoded data removed]",
      "text/plain": [
       "<Figure size 432x288 with 1 Axes>"
      ]
     },
     "metadata": {
      "needs_background": "light"
     },
     "output_type": "display_data"
    }
   ],
   "source": [
    "ax = pd.Series(optimal_params.core[0]).plot(label='optimal')\n",
    "pd.Series(params[-1][0]).plot(ax=ax, label='final')\n",
    "ax.legend();"
   ]
  },
  {
   "cell_type": "code",
   "execution_count": 14,
   "metadata": {},
   "outputs": [
    {
     "name": "stdout",
     "output_type": "stream",
     "text": [
      "Step 0 metric score: 0.02198768689533861\n",
      "Step 1 metric score: 0.027264731750219876\n",
      "Step 2 metric score: 0.03518029903254178\n",
      "Step 3 metric score: 0.04309586631486367\n",
      "Step 4 metric score: 0.04925241864555849\n",
      "Step 5 metric score: 0.056288478452066845\n",
      "Step 6 metric score: 0.05804749340369393\n",
      "Step 7 metric score: 0.06068601583113457\n",
      "Step 8 metric score: 0.06244503078276165\n",
      "Step 9 metric score: 0.06244503078276165\n",
      "Step 10 metric score: 0.06068601583113457\n",
      "Metric no longer improves. Best score 0.06244503078276165, attained in 9 iterations.\n"
     ]
    }
   ],
   "source": [
    "evaluator = tf_evaluator(testset_valid, valid_pack[1], data_description, core_projected=False)\n",
    "early_stopper_no_proj = early_stopping_callback(evaluator, max_fails=2, param_store=None)\n",
    "\n",
    "params = seqtf_model_build(\n",
    "    {**config, **{'max_iters': 15}},\n",
    "    training_data,\n",
    "    data_description,\n",
    "    iter_callback=early_stopper_no_proj\n",
    ")"
   ]
  },
  {
   "cell_type": "code",
   "execution_count": 15,
   "metadata": {},
   "outputs": [
    {
     "name": "stdout",
     "output_type": "stream",
     "text": [
      "Step 0 metric score: 0.028144239226033423\n",
      "Step 1 metric score: 0.047493403693931395\n",
      "Step 2 metric score: 0.058927000879507474\n",
      "Step 3 metric score: 0.05980650835532102\n",
      "Step 4 metric score: 0.06772207563764292\n",
      "Step 5 metric score: 0.06860158311345646\n",
      "Step 6 metric score: 0.06772207563764292\n",
      "Step 7 metric score: 0.06860158311345646\n",
      "Metric no longer improves. Best score 0.06860158311345646, attained in 6 iterations.\n"
     ]
    }
   ],
   "source": [
    "evaluator = tf_evaluator(testset_valid, valid_pack[1], data_description, core_projected=False)\n",
    "early_stopper_012 = early_stopping_callback(evaluator, max_fails=2, param_store=None)\n",
    "\n",
    "params = seqtf_model_build(\n",
    "    {**config, **{'max_iters': 15, \"update_order\": (0, 1, 2)}},\n",
    "    training_data,\n",
    "    data_description,\n",
    "    iter_callback=early_stopper_012\n",
    ")"
   ]
  },
  {
   "cell_type": "code",
   "execution_count": 16,
   "metadata": {},
   "outputs": [
    {
     "data": {
      "image/png": "[encoded data removed]",
      "text/plain": [
       "<Figure size 432x288 with 1 Axes>"
      ]
     },
     "metadata": {
      "needs_background": "light"
     },
     "output_type": "display_data"
    }
   ],
   "source": [
    "ax = pd.Series(early_stopper.history).plot(label='core-projected')\n",
    "pd.Series(early_stopper_no_proj.history).plot(ax=ax, label='standard - same order')\n",
    "pd.Series(early_stopper_012.history).plot(ax=ax, label='standard - initial order')\n",
    "ax.legend();"
   ]
  },
  {
   "cell_type": "code",
   "execution_count": null,
   "metadata": {},
   "outputs": [],
   "source": []
  }
 ],
 "metadata": {
  "kernelspec": {
   "display_name": "Python 3.10.4 ('core_proj')",
   "language": "python",
   "name": "python3"
  },
  "language_info": {
   "codemirror_mode": {
    "name": "ipython",
    "version": 3
   },
   "file_extension": ".py",
   "mimetype": "text/x-python",
   "name": "python",
   "nbconvert_exporter": "python",
   "pygments_lexer": "ipython3",
   "version": "3.10.4"
  },
  "orig_nbformat": 4,
  "vscode": {
   "interpreter": {
    "hash": "bfc0f0aa3674d207cc9884ddcb2eabfea21c5f4b1d5f646100190a3966ca1af2"
   }
  }
 },
 "nbformat": 4,
 "nbformat_minor": 2
}
