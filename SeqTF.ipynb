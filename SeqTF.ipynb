{
 "cells": [
  {
   "cell_type": "code",
   "execution_count": 1,
   "metadata": {},
   "outputs": [],
   "source": [
    "import numpy as np\n",
    "import pandas as pd\n",
    "\n",
    "from polara import get_movielens_data\n",
    "from polara.lib.earlystopping import early_stopping_callback\n",
    "\n",
    "from dataprep import split_data, assign_positions\n",
    "from model import seqtf_model_build, tf_scoring\n",
    "from evaluation import downvote_seen_items, model_evaluate, topn_recommendations"
   ]
  },
  {
   "cell_type": "markdown",
   "metadata": {},
   "source": [
    "# Preparing Data"
   ]
  },
  {
   "cell_type": "code",
   "execution_count": 2,
   "metadata": {},
   "outputs": [
    {
     "data": {
      "text/html": [
       "<div>\n",
       "<style scoped>\n",
       "    .dataframe tbody tr th:only-of-type {\n",
       "        vertical-align: middle;\n",
       "    }\n",
       "\n",
       "    .dataframe tbody tr th {\n",
       "        vertical-align: top;\n",
       "    }\n",
       "\n",
       "    .dataframe thead th {\n",
       "        text-align: right;\n",
       "    }\n",
       "</style>\n",
       "<table border=\"1\" class=\"dataframe\">\n",
       "  <thead>\n",
       "    <tr style=\"text-align: right;\">\n",
       "      <th></th>\n",
       "      <th>userid</th>\n",
       "      <th>movieid</th>\n",
       "      <th>rating</th>\n",
       "      <th>timestamp</th>\n",
       "    </tr>\n",
       "  </thead>\n",
       "  <tbody>\n",
       "    <tr>\n",
       "      <th>0</th>\n",
       "      <td>1</td>\n",
       "      <td>122</td>\n",
       "      <td>5.0</td>\n",
       "      <td>838985046</td>\n",
       "    </tr>\n",
       "    <tr>\n",
       "      <th>1</th>\n",
       "      <td>1</td>\n",
       "      <td>185</td>\n",
       "      <td>5.0</td>\n",
       "      <td>838983525</td>\n",
       "    </tr>\n",
       "    <tr>\n",
       "      <th>2</th>\n",
       "      <td>1</td>\n",
       "      <td>231</td>\n",
       "      <td>5.0</td>\n",
       "      <td>838983392</td>\n",
       "    </tr>\n",
       "    <tr>\n",
       "      <th>3</th>\n",
       "      <td>1</td>\n",
       "      <td>292</td>\n",
       "      <td>5.0</td>\n",
       "      <td>838983421</td>\n",
       "    </tr>\n",
       "    <tr>\n",
       "      <th>4</th>\n",
       "      <td>1</td>\n",
       "      <td>316</td>\n",
       "      <td>5.0</td>\n",
       "      <td>838983392</td>\n",
       "    </tr>\n",
       "  </tbody>\n",
       "</table>\n",
       "</div>"
      ],
      "text/plain": [
       "   userid  movieid  rating  timestamp\n",
       "0       1      122     5.0  838985046\n",
       "1       1      185     5.0  838983525\n",
       "2       1      231     5.0  838983392\n",
       "3       1      292     5.0  838983421\n",
       "4       1      316     5.0  838983392"
      ]
     },
     "execution_count": 2,
     "metadata": {},
     "output_type": "execute_result"
    }
   ],
   "source": [
    "mldata = get_movielens_data('ml-10m.zip', include_time=True)\n",
    "mldata.head()"
   ]
  },
  {
   "cell_type": "code",
   "execution_count": 3,
   "metadata": {},
   "outputs": [
    {
     "name": "stdout",
     "output_type": "stream",
     "text": [
      "Filtered 23202 invalid observations.\n"
     ]
    }
   ],
   "source": [
    "train_pack, valid_pack, test_pack = split_data(mldata, time_q=0.95)"
   ]
  },
  {
   "cell_type": "code",
   "execution_count": 4,
   "metadata": {},
   "outputs": [],
   "source": [
    "n_pos = 200\n",
    "\n",
    "training_data = assign_positions(train_pack[0], n_pos)\n",
    "testset_valid = assign_positions(valid_pack[0], n_pos)\n",
    "testset = assign_positions(test_pack[0], n_pos)"
   ]
  },
  {
   "cell_type": "code",
   "execution_count": 5,
   "metadata": {},
   "outputs": [
    {
     "data": {
      "text/html": [
       "<div>\n",
       "<style scoped>\n",
       "    .dataframe tbody tr th:only-of-type {\n",
       "        vertical-align: middle;\n",
       "    }\n",
       "\n",
       "    .dataframe tbody tr th {\n",
       "        vertical-align: top;\n",
       "    }\n",
       "\n",
       "    .dataframe thead th {\n",
       "        text-align: right;\n",
       "    }\n",
       "</style>\n",
       "<table border=\"1\" class=\"dataframe\">\n",
       "  <thead>\n",
       "    <tr style=\"text-align: right;\">\n",
       "      <th></th>\n",
       "      <th>userid</th>\n",
       "      <th>movieid</th>\n",
       "      <th>rating</th>\n",
       "      <th>timestamp</th>\n",
       "      <th>pos</th>\n",
       "    </tr>\n",
       "  </thead>\n",
       "  <tbody>\n",
       "    <tr>\n",
       "      <th>18</th>\n",
       "      <td>0</td>\n",
       "      <td>582</td>\n",
       "      <td>5.0</td>\n",
       "      <td>838983339</td>\n",
       "      <td>178</td>\n",
       "    </tr>\n",
       "    <tr>\n",
       "      <th>5</th>\n",
       "      <td>0</td>\n",
       "      <td>325</td>\n",
       "      <td>5.0</td>\n",
       "      <td>838983392</td>\n",
       "      <td>179</td>\n",
       "    </tr>\n",
       "    <tr>\n",
       "      <th>2</th>\n",
       "      <td>0</td>\n",
       "      <td>228</td>\n",
       "      <td>5.0</td>\n",
       "      <td>838983392</td>\n",
       "      <td>180</td>\n",
       "    </tr>\n",
       "    <tr>\n",
       "      <th>4</th>\n",
       "      <td>0</td>\n",
       "      <td>313</td>\n",
       "      <td>5.0</td>\n",
       "      <td>838983392</td>\n",
       "      <td>181</td>\n",
       "    </tr>\n",
       "    <tr>\n",
       "      <th>3</th>\n",
       "      <td>0</td>\n",
       "      <td>289</td>\n",
       "      <td>5.0</td>\n",
       "      <td>838983421</td>\n",
       "      <td>182</td>\n",
       "    </tr>\n",
       "  </tbody>\n",
       "</table>\n",
       "</div>"
      ],
      "text/plain": [
       "    userid  movieid  rating  timestamp  pos\n",
       "18       0      582     5.0  838983339  178\n",
       "5        0      325     5.0  838983392  179\n",
       "2        0      228     5.0  838983392  180\n",
       "4        0      313     5.0  838983392  181\n",
       "3        0      289     5.0  838983421  182"
      ]
     },
     "execution_count": 5,
     "metadata": {},
     "output_type": "execute_result"
    }
   ],
   "source": [
    "training_data.head()"
   ]
  },
  {
   "cell_type": "code",
   "execution_count": 6,
   "metadata": {},
   "outputs": [
    {
     "data": {
      "text/html": [
       "<div>\n",
       "<style scoped>\n",
       "    .dataframe tbody tr th:only-of-type {\n",
       "        vertical-align: middle;\n",
       "    }\n",
       "\n",
       "    .dataframe tbody tr th {\n",
       "        vertical-align: top;\n",
       "    }\n",
       "\n",
       "    .dataframe thead th {\n",
       "        text-align: right;\n",
       "    }\n",
       "</style>\n",
       "<table border=\"1\" class=\"dataframe\">\n",
       "  <thead>\n",
       "    <tr style=\"text-align: right;\">\n",
       "      <th></th>\n",
       "      <th>userid</th>\n",
       "      <th>movieid</th>\n",
       "      <th>rating</th>\n",
       "      <th>timestamp</th>\n",
       "      <th>pos</th>\n",
       "    </tr>\n",
       "  </thead>\n",
       "  <tbody>\n",
       "    <tr>\n",
       "      <th>5094</th>\n",
       "      <td>48</td>\n",
       "      <td>3662</td>\n",
       "      <td>4.0</td>\n",
       "      <td>1215134807</td>\n",
       "      <td>181</td>\n",
       "    </tr>\n",
       "    <tr>\n",
       "      <th>5089</th>\n",
       "      <td>48</td>\n",
       "      <td>515</td>\n",
       "      <td>3.5</td>\n",
       "      <td>1215134907</td>\n",
       "      <td>182</td>\n",
       "    </tr>\n",
       "    <tr>\n",
       "      <th>5093</th>\n",
       "      <td>48</td>\n",
       "      <td>2723</td>\n",
       "      <td>4.0</td>\n",
       "      <td>1215134942</td>\n",
       "      <td>183</td>\n",
       "    </tr>\n",
       "    <tr>\n",
       "      <th>5088</th>\n",
       "      <td>48</td>\n",
       "      <td>264</td>\n",
       "      <td>5.0</td>\n",
       "      <td>1215134949</td>\n",
       "      <td>184</td>\n",
       "    </tr>\n",
       "    <tr>\n",
       "      <th>5091</th>\n",
       "      <td>48</td>\n",
       "      <td>2363</td>\n",
       "      <td>5.0</td>\n",
       "      <td>1215134977</td>\n",
       "      <td>185</td>\n",
       "    </tr>\n",
       "  </tbody>\n",
       "</table>\n",
       "</div>"
      ],
      "text/plain": [
       "      userid  movieid  rating   timestamp  pos\n",
       "5094      48     3662     4.0  1215134807  181\n",
       "5089      48      515     3.5  1215134907  182\n",
       "5093      48     2723     4.0  1215134942  183\n",
       "5088      48      264     5.0  1215134949  184\n",
       "5091      48     2363     5.0  1215134977  185"
      ]
     },
     "execution_count": 6,
     "metadata": {},
     "output_type": "execute_result"
    }
   ],
   "source": [
    "testset_valid.head()"
   ]
  },
  {
   "cell_type": "code",
   "execution_count": 7,
   "metadata": {},
   "outputs": [
    {
     "data": {
      "text/html": [
       "<div>\n",
       "<style scoped>\n",
       "    .dataframe tbody tr th:only-of-type {\n",
       "        vertical-align: middle;\n",
       "    }\n",
       "\n",
       "    .dataframe tbody tr th {\n",
       "        vertical-align: top;\n",
       "    }\n",
       "\n",
       "    .dataframe thead th {\n",
       "        text-align: right;\n",
       "    }\n",
       "</style>\n",
       "<table border=\"1\" class=\"dataframe\">\n",
       "  <thead>\n",
       "    <tr style=\"text-align: right;\">\n",
       "      <th></th>\n",
       "      <th>userid</th>\n",
       "      <th>movieid</th>\n",
       "      <th>rating</th>\n",
       "      <th>timestamp</th>\n",
       "      <th>pos</th>\n",
       "    </tr>\n",
       "  </thead>\n",
       "  <tbody>\n",
       "    <tr>\n",
       "      <th>5094</th>\n",
       "      <td>48</td>\n",
       "      <td>3662</td>\n",
       "      <td>4.0</td>\n",
       "      <td>1215134807</td>\n",
       "      <td>180</td>\n",
       "    </tr>\n",
       "    <tr>\n",
       "      <th>5089</th>\n",
       "      <td>48</td>\n",
       "      <td>515</td>\n",
       "      <td>3.5</td>\n",
       "      <td>1215134907</td>\n",
       "      <td>181</td>\n",
       "    </tr>\n",
       "    <tr>\n",
       "      <th>5093</th>\n",
       "      <td>48</td>\n",
       "      <td>2723</td>\n",
       "      <td>4.0</td>\n",
       "      <td>1215134942</td>\n",
       "      <td>182</td>\n",
       "    </tr>\n",
       "    <tr>\n",
       "      <th>5088</th>\n",
       "      <td>48</td>\n",
       "      <td>264</td>\n",
       "      <td>5.0</td>\n",
       "      <td>1215134949</td>\n",
       "      <td>183</td>\n",
       "    </tr>\n",
       "    <tr>\n",
       "      <th>5091</th>\n",
       "      <td>48</td>\n",
       "      <td>2363</td>\n",
       "      <td>5.0</td>\n",
       "      <td>1215134977</td>\n",
       "      <td>184</td>\n",
       "    </tr>\n",
       "  </tbody>\n",
       "</table>\n",
       "</div>"
      ],
      "text/plain": [
       "      userid  movieid  rating   timestamp  pos\n",
       "5094      48     3662     4.0  1215134807  180\n",
       "5089      48      515     3.5  1215134907  181\n",
       "5093      48     2723     4.0  1215134942  182\n",
       "5088      48      264     5.0  1215134949  183\n",
       "5091      48     2363     5.0  1215134977  184"
      ]
     },
     "execution_count": 7,
     "metadata": {},
     "output_type": "execute_result"
    }
   ],
   "source": [
    "testset.head()"
   ]
  },
  {
   "cell_type": "markdown",
   "metadata": {},
   "source": [
    "# Model"
   ]
  },
  {
   "cell_type": "code",
   "execution_count": 8,
   "metadata": {},
   "outputs": [
    {
     "data": {
      "text/plain": [
       "{'userid': 'userid',\n",
       " 'itemid': 'movieid',\n",
       " 'positionid': 'pos',\n",
       " 'n_users': 64680,\n",
       " 'n_items': 9857,\n",
       " 'n_pos': 200}"
      ]
     },
     "execution_count": 8,
     "metadata": {},
     "output_type": "execute_result"
    }
   ],
   "source": [
    "data_index = train_pack[1]\n",
    "data_description = dict(\n",
    "    userid = data_index['userid'].name,\n",
    "    itemid = data_index['itemid'].name,\n",
    "    positionid = 'pos',\n",
    "    n_users = len(data_index['userid']),\n",
    "    n_items = len(data_index['itemid']),\n",
    "    n_pos = n_pos\n",
    ")\n",
    "data_description"
   ]
  },
  {
   "cell_type": "code",
   "execution_count": 9,
   "metadata": {},
   "outputs": [],
   "source": [
    "config = {\n",
    "    \"mlrank\": (30, 25, 5),\n",
    "    \"n_pos\": n_pos,\n",
    "    \"max_iters\": 4,\n",
    "    \"update_order\": (2, 1, 0),\n",
    "    \"growth_tol\": 1e-6,\n",
    "    \"seed\": 42\n",
    "}"
   ]
  },
  {
   "cell_type": "code",
   "execution_count": 10,
   "metadata": {},
   "outputs": [
    {
     "name": "stdout",
     "output_type": "stream",
     "text": [
      "Step 0 growth of the core: 1.0\n",
      "Step 1 growth of the core: 0.2592736187067988\n",
      "Step 2 growth of the core: 0.033582400237606905\n",
      "Step 3 growth of the core: 0.008429917653930762\n"
     ]
    }
   ],
   "source": [
    "tf_params_old = seqtf_model_build(config, training_data, data_description)"
   ]
  },
  {
   "cell_type": "markdown",
   "metadata": {},
   "source": [
    "# Tuning"
   ]
  },
  {
   "cell_type": "code",
   "execution_count": 11,
   "metadata": {},
   "outputs": [],
   "source": [
    "def tf_evaluator(testset, holdout, data_description, core_projected, topn=10):\n",
    "    def iter_evaluate(core_factors, factors):\n",
    "        model_params = tuple(factors) + (core_factors,)\n",
    "        scores = tf_scoring(model_params, testset, data_description, core_projected=core_projected) \n",
    "        downvote_seen_items(scores, testset, data_description)\n",
    "        top_recs = topn_recommendations(scores, topn=topn)\n",
    "        hr, *_ = model_evaluate(top_recs, holdout, data_description)\n",
    "        return hr\n",
    "    return iter_evaluate"
   ]
  },
  {
   "cell_type": "code",
   "execution_count": 13,
   "metadata": {},
   "outputs": [
    {
     "name": "stdout",
     "output_type": "stream",
     "text": [
      "Step 0 metric score: 0.03962225415725724\n",
      "Step 1 metric score: 0.042291110654896324\n",
      "Step 2 metric score: 0.041469924040238144\n",
      "Step 3 metric score: 0.0412646273865736\n",
      "Step 4 metric score: 0.04290700061588996\n",
      "Step 5 metric score: 0.04516526380619996\n",
      "Step 6 metric score: 0.04557585711352905\n",
      "Step 7 metric score: 0.04495996715253541\n",
      "Step 8 metric score: 0.04516526380619996\n",
      "Step 9 metric score: 0.045370560459864505\n",
      "Metric no longer improves. Best score 0.04557585711352905, attained in 7 iterations.\n"
     ]
    }
   ],
   "source": [
    "evaluator = tf_evaluator(testset_valid, valid_pack[1], data_description, core_projected=True)\n",
    "\n",
    "params = seqtf_model_build(\n",
    "    {**config, **{'max_iters': 15}},\n",
    "    training_data,\n",
    "    data_description,\n",
    "    iter_callback=early_stopping_callback(evaluator, max_fails=3)\n",
    ")"
   ]
  },
  {
   "cell_type": "code",
   "execution_count": 14,
   "metadata": {},
   "outputs": [
    {
     "name": "stdout",
     "output_type": "stream",
     "text": [
      "Step 0 metric score: 0.033668651200985424\n",
      "Step 1 metric score: 0.047834120303839045\n",
      "Step 2 metric score: 0.04598645042085814\n",
      "Step 3 metric score: 0.04557585711352905\n",
      "Step 4 metric score: 0.04660234038185178\n",
      "Metric no longer improves. Best score 0.047834120303839045, attained in 2 iterations.\n"
     ]
    }
   ],
   "source": [
    "evaluator = tf_evaluator(testset_valid, valid_pack[1], data_description, core_projected=False)\n",
    "\n",
    "params = seqtf_model_build(\n",
    "    {**config, **{'max_iters': 15}},\n",
    "    training_data,\n",
    "    data_description,\n",
    "    iter_callback=early_stopping_callback(evaluator, max_fails=3)\n",
    ")"
   ]
  },
  {
   "cell_type": "code",
   "execution_count": 15,
   "metadata": {},
   "outputs": [
    {
     "name": "stdout",
     "output_type": "stream",
     "text": [
      "Step 0 metric score: 0.02340381851775816\n",
      "Step 1 metric score: 0.04434407719154178\n",
      "Step 2 metric score: 0.05132416341613632\n",
      "Step 3 metric score: 0.04824471361116814\n",
      "Step 4 metric score: 0.04803941695750359\n",
      "Step 5 metric score: 0.04639704372818723\n",
      "Metric no longer improves. Best score 0.05132416341613632, attained in 3 iterations.\n"
     ]
    }
   ],
   "source": [
    "evaluator = tf_evaluator(testset_valid, valid_pack[1], data_description, core_projected=False)\n",
    "\n",
    "params = seqtf_model_build(\n",
    "    {**config, **{'max_iters': 15, \"update_order\": (0, 1, 2)}},\n",
    "    training_data,\n",
    "    data_description,\n",
    "    iter_callback=early_stopping_callback(evaluator, max_fails=3)\n",
    ")"
   ]
  },
  {
   "cell_type": "code",
   "execution_count": null,
   "metadata": {},
   "outputs": [],
   "source": []
  }
 ],
 "metadata": {
  "kernelspec": {
   "display_name": "Python 3.10.4 ('core_proj')",
   "language": "python",
   "name": "python3"
  },
  "language_info": {
   "codemirror_mode": {
    "name": "ipython",
    "version": 3
   },
   "file_extension": ".py",
   "mimetype": "text/x-python",
   "name": "python",
   "nbconvert_exporter": "python",
   "pygments_lexer": "ipython3",
   "version": "3.10.4"
  },
  "orig_nbformat": 4,
  "vscode": {
   "interpreter": {
    "hash": "bfc0f0aa3674d207cc9884ddcb2eabfea21c5f4b1d5f646100190a3966ca1af2"
   }
  }
 },
 "nbformat": 4,
 "nbformat_minor": 2
}
